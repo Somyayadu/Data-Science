{
 "cells": [
  {
   "cell_type": "code",
   "execution_count": null,
   "id": "eb3b5f96",
   "metadata": {},
   "outputs": [],
   "source": [
    "# kmeans\n",
    "# kmean --> clustering --> group banana --> similarity\n",
    "# distance --> 1.eucelidian  2.cosinesimil  3.manhatten\n",
    "# working of kmeans:-\n",
    "#    --> 1. select the set number of k \n",
    "#    --> 2. select the k randomly \n",
    "#    --> 3. calculate distance b/w the centroid & data point \n",
    "#             --> Ec(P1,P2) = root((x2-x1)^2+ (y2-y1)^2)\n",
    "#    --> 4. recalculate the centroid (x1+x2/2),(y1+y2/2)\n",
    "#    --> 5. row 3 step repeat all works \n",
    "# --> k= no. of centroids\n",
    "# inter cluster => ek cluster ke center s dusre data point ke cluster ka distance\n",
    "# intra cluster => same data point ke cluster ke bech ka distance intra cluster distance \n",
    "# optimal way to find k = no. of centroid \n",
    "# elbow method => help kare ga choosekarne mai ek no. \n",
    "# --> base of WCSS(within cluster sum of square )--> WCSS = (∑ i=1) d(c,xi)^2\n",
    "# --> Wcss -> evaluate how well the clustering algp has grouped the data point \n",
    "# WCSS = inertia  "
   ]
  }
 ],
 "metadata": {
  "language_info": {
   "name": "python"
  }
 },
 "nbformat": 4,
 "nbformat_minor": 5
}
