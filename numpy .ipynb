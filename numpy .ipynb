{
 "cells": [
  {
   "cell_type": "code",
   "execution_count": 1,
   "id": "d13930ca",
   "metadata": {},
   "outputs": [
    {
     "data": {
      "text/plain": [
       "'2.3.0'"
      ]
     },
     "execution_count": 1,
     "metadata": {},
     "output_type": "execute_result"
    }
   ],
   "source": [
    "#check numpy version\n",
    "import numpy as np\n",
    "np.__version__"
   ]
  },
  {
   "cell_type": "code",
   "execution_count": 2,
   "id": "dd25d972",
   "metadata": {},
   "outputs": [
    {
     "name": "stdout",
     "output_type": "stream",
     "text": [
      "<class 'numpy.ndarray'>\n",
      "[1 2 3 4 5]\n"
     ]
    }
   ],
   "source": [
    "lst=[1, 2, 3, 4, 5]\n",
    "arr1 = np.array(lst)  #coversion of list to numpy array\n",
    "print(type(arr1))  #check type of arr\n",
    "print(arr1)"
   ]
  },
  {
   "cell_type": "code",
   "execution_count": 3,
   "id": "dfc8e1eb",
   "metadata": {},
   "outputs": [
    {
     "name": "stdout",
     "output_type": "stream",
     "text": [
      "[1 2 3 4 5 6 7 8 9]\n"
     ]
    }
   ],
   "source": [
    "arr1 = np.arange(1, 10)  # create an array with start, stop and step\n",
    "print(arr1) # 1 to n-1 print honge"
   ]
  },
  {
   "cell_type": "code",
   "execution_count": 4,
   "id": "aba6cb45",
   "metadata": {},
   "outputs": [
    {
     "name": "stdout",
     "output_type": "stream",
     "text": [
      "[1. 1. 1. 1. 1.]\n"
     ]
    },
    {
     "data": {
      "text/plain": [
       "array([1., 1., 1., 1., 1.])"
      ]
     },
     "execution_count": 4,
     "metadata": {},
     "output_type": "execute_result"
    }
   ],
   "source": [
    "arr3=np.ones(5)  #create an array of ones\n",
    "print(arr3)\n",
    "arr3"
   ]
  },
  {
   "cell_type": "code",
   "execution_count": 5,
   "id": "868e5e52",
   "metadata": {},
   "outputs": [
    {
     "data": {
      "text/plain": [
       "array([0., 0., 0., 0., 0.])"
      ]
     },
     "execution_count": 5,
     "metadata": {},
     "output_type": "execute_result"
    }
   ],
   "source": [
    "arr3=np.zeros(5)        #create an array of zeros\n",
    "arr3   "
   ]
  },
  {
   "cell_type": "code",
   "execution_count": 6,
   "id": "06126a6e",
   "metadata": {},
   "outputs": [
    {
     "name": "stdout",
     "output_type": "stream",
     "text": [
      "[ 0.          0.52631579  1.05263158  1.57894737  2.10526316  2.63157895\n",
      "  3.15789474  3.68421053  4.21052632  4.73684211  5.26315789  5.78947368\n",
      "  6.31578947  6.84210526  7.36842105  7.89473684  8.42105263  8.94736842\n",
      "  9.47368421 10.        ]\n"
     ]
    }
   ],
   "source": [
    "arr5=np.linspace(0, 10, 20)  #create an array with evenly spaced numbers over a specified interval\n",
    "print(arr5)  # 1 to 10 with 5 evenly spaced numbers"
   ]
  },
  {
   "cell_type": "code",
   "execution_count": 7,
   "id": "644668b3",
   "metadata": {},
   "outputs": [
    {
     "name": "stdout",
     "output_type": "stream",
     "text": [
      "[[ 1  2  3  4  5  6]\n",
      " [ 7  8  9 10 11 12]\n",
      " [13 14 15 16 17 18]\n",
      " [19 20 21 22 23 24]\n",
      " [25 26 27 28 29 30]]\n"
     ]
    },
    {
     "data": {
      "text/plain": [
       "array([[ 1,  2,  3,  4,  5,  6],\n",
       "       [ 7,  8,  9, 10, 11, 12],\n",
       "       [13, 14, 15, 16, 17, 18],\n",
       "       [19, 20, 21, 22, 23, 24],\n",
       "       [25, 26, 27, 28, 29, 30]])"
      ]
     },
     "execution_count": 7,
     "metadata": {},
     "output_type": "execute_result"
    }
   ],
   "source": [
    "##conversion of 1d to 2d array\n",
    "arr6=np.arange(1,31).reshape(5,6)   #reshape the array to 5 rows and 6 columns\n",
    "print(arr6)  # 1 to 30 in 5 rows and 6 columns\n",
    "arr6"
   ]
  },
  {
   "cell_type": "code",
   "execution_count": 8,
   "id": "4957288e",
   "metadata": {},
   "outputs": [
    {
     "name": "stdout",
     "output_type": "stream",
     "text": [
      "[65 48 80 52 61 91 51 84 48 63]\n"
     ]
    },
    {
     "data": {
      "text/plain": [
       "array([65, 48, 80, 52, 61, 91, 51, 84, 48, 63], dtype=int32)"
      ]
     },
     "execution_count": 8,
     "metadata": {},
     "output_type": "execute_result"
    }
   ],
   "source": [
    "arr7=np.random.randint(1,100,10) #random integers between 1 and 100, 10 elements\n",
    "print(arr7)  # 10 random integers between 1 and 100\n",
    "arr7"
   ]
  },
  {
   "cell_type": "code",
   "execution_count": 9,
   "id": "9540811f",
   "metadata": {},
   "outputs": [
    {
     "name": "stdout",
     "output_type": "stream",
     "text": [
      "[0.33133006 0.81471678 0.69856775 0.90917521 0.60611112 0.23400782\n",
      " 0.00459377 0.78658995 0.37468884 0.64488631]\n"
     ]
    }
   ],
   "source": [
    "arr7=np.random.random(10)  #random floats between 0 and 1, 10 elements\n",
    "print(arr7)  # 10 random floats between 0 and 1"
   ]
  },
  {
   "cell_type": "code",
   "execution_count": 10,
   "id": "7d3ecccb",
   "metadata": {},
   "outputs": [
    {
     "data": {
      "text/plain": [
       "1"
      ]
     },
     "execution_count": 10,
     "metadata": {},
     "output_type": "execute_result"
    }
   ],
   "source": [
    "arr8=np.array([10,6])\n",
    "arr8.shape #shape of the array\n",
    "arr8.dtype #data type of the array\n",
    "arr8.size #number of elements in the array\n",
    "arr8.ndim  #number of dimensions"
   ]
  },
  {
   "cell_type": "code",
   "execution_count": 11,
   "id": "d1f36187",
   "metadata": {},
   "outputs": [
    {
     "data": {
      "text/plain": [
       "array([10,  6])"
      ]
     },
     "execution_count": 11,
     "metadata": {},
     "output_type": "execute_result"
    }
   ],
   "source": [
    "arr8.ravel()  #flatten the array to 1d\n",
    "arr8.flatten()  #flatten the array to 1d, same as ravel"
   ]
  },
  {
   "cell_type": "code",
   "execution_count": 12,
   "id": "33656b42",
   "metadata": {},
   "outputs": [
    {
     "name": "stdout",
     "output_type": "stream",
     "text": [
      "(5, 6)\n",
      "(6, 5)\n"
     ]
    }
   ],
   "source": [
    "arr8=np.arange(1,31).reshape(5,6)  \n",
    "print(arr8.shape)  #shape of the array\n",
    "arr9=arr8.T.shape  #transpose the array and get the shape\n",
    "print(arr9)  #shape of the transposed array"
   ]
  },
  {
   "cell_type": "code",
   "execution_count": 13,
   "id": "ce0f4aa1",
   "metadata": {},
   "outputs": [
    {
     "name": "stdout",
     "output_type": "stream",
     "text": [
      "(2,)\n"
     ]
    }
   ],
   "source": [
    "arr8=np.array([5,6])\n",
    "arr9=arr8.T.shape\n",
    "print(arr9)  #shape of the transposed array, should be same as original since it's 1d"
   ]
  },
  {
   "cell_type": "code",
   "execution_count": 14,
   "id": "ce9a6b8f",
   "metadata": {},
   "outputs": [
    {
     "data": {
      "text/plain": [
       "array([[ 1,  2,  3,  4,  5,  6],\n",
       "       [ 7,  8,  9, 10, 11, 12],\n",
       "       [13, 14, 15, 16, 17, 18],\n",
       "       [19, 20, 21, 22, 23, 24],\n",
       "       [25, 26, 27, 28, 29, 30]])"
      ]
     },
     "execution_count": 14,
     "metadata": {},
     "output_type": "execute_result"
    }
   ],
   "source": [
    "#indexing and slicing in 2d array\n",
    "##2d array---[rowstart:rowend:rowskip, colstart:colend:colskip]\n",
    "arr8=np.arange(1,31).reshape(5,6)\n",
    "arr8"
   ]
  },
  {
   "cell_type": "code",
   "execution_count": 15,
   "id": "2de23b32",
   "metadata": {},
   "outputs": [
    {
     "data": {
      "text/plain": [
       "array([[16, 17],\n",
       "       [22, 23]])"
      ]
     },
     "execution_count": 15,
     "metadata": {},
     "output_type": "execute_result"
    }
   ],
   "source": [
    "arr8=np.arange(1,31).reshape(5,6)\n",
    "arr8[2:2,3:5]  #selecting specific rows and columns\n",
    "arr8[2:4,3:5]  #selecting rows 2 to 3 and columns 3 to 4"
   ]
  },
  {
   "cell_type": "code",
   "execution_count": 16,
   "id": "1843eb0b",
   "metadata": {},
   "outputs": [
    {
     "data": {
      "text/plain": [
       "numpy.ndarray"
      ]
     },
     "execution_count": 16,
     "metadata": {},
     "output_type": "execute_result"
    }
   ],
   "source": [
    "type(arr8[2:4,3:5])  #check type of the sliced array\n"
   ]
  },
  {
   "cell_type": "code",
   "execution_count": 17,
   "id": "7cdaa4c6",
   "metadata": {},
   "outputs": [
    {
     "name": "stdout",
     "output_type": "stream",
     "text": [
      "[[1 2 3]\n",
      " [4 5 6]]\n"
     ]
    },
    {
     "data": {
      "text/plain": [
       "(1, 2)"
      ]
     },
     "execution_count": 17,
     "metadata": {},
     "output_type": "execute_result"
    }
   ],
   "source": [
    "arr2 = np.array([[1, 2, 3], [4, 5, 6]])  #2D array\n",
    "print(arr2)\n",
    "arr2[1:2, 1:3]  #selecting specific rows and columns\n",
    "arr2[1:2, 1:3].shape  #shape of the sliced"
   ]
  },
  {
   "cell_type": "code",
   "execution_count": 18,
   "id": "d488e9cf",
   "metadata": {},
   "outputs": [
    {
     "data": {
      "text/plain": [
       "array([[[ 0,  1,  2],\n",
       "        [ 3,  4,  5],\n",
       "        [ 6,  7,  8]],\n",
       "\n",
       "       [[ 9, 10, 11],\n",
       "        [12, 13, 14],\n",
       "        [15, 16, 17]],\n",
       "\n",
       "       [[18, 19, 20],\n",
       "        [21, 22, 23],\n",
       "        [24, 25, 26]]])"
      ]
     },
     "execution_count": 18,
     "metadata": {},
     "output_type": "execute_result"
    }
   ],
   "source": [
    "arr10=np.arange(27).reshape(3,3,3)  #create a 2D array with 2 rows and 5 columns\n",
    "arr10"
   ]
  },
  {
   "cell_type": "code",
   "execution_count": 19,
   "id": "1a993193",
   "metadata": {},
   "outputs": [
    {
     "name": "stdout",
     "output_type": "stream",
     "text": [
      "(3, 15, 5)\n"
     ]
    },
    {
     "data": {
      "text/plain": [
       "array([[[  0,   1,   2,   3,   4],\n",
       "        [  5,   6,   7,   8,   9],\n",
       "        [ 10,  11,  12,  13,  14],\n",
       "        [ 15,  16,  17,  18,  19],\n",
       "        [ 20,  21,  22,  23,  24],\n",
       "        [ 25,  26,  27,  28,  29],\n",
       "        [ 30,  31,  32,  33,  34],\n",
       "        [ 35,  36,  37,  38,  39],\n",
       "        [ 40,  41,  42,  43,  44],\n",
       "        [ 45,  46,  47,  48,  49],\n",
       "        [ 50,  51,  52,  53,  54],\n",
       "        [ 55,  56,  57,  58,  59],\n",
       "        [ 60,  61,  62,  63,  64],\n",
       "        [ 65,  66,  67,  68,  69],\n",
       "        [ 70,  71,  72,  73,  74]],\n",
       "\n",
       "       [[ 75,  76,  77,  78,  79],\n",
       "        [ 80,  81,  82,  83,  84],\n",
       "        [ 85,  86,  87,  88,  89],\n",
       "        [ 90,  91,  92,  93,  94],\n",
       "        [ 95,  96,  97,  98,  99],\n",
       "        [100, 101, 102, 103, 104],\n",
       "        [105, 106, 107, 108, 109],\n",
       "        [110, 111, 112, 113, 114],\n",
       "        [115, 116, 117, 118, 119],\n",
       "        [120, 121, 122, 123, 124],\n",
       "        [125, 126, 127, 128, 129],\n",
       "        [130, 131, 132, 133, 134],\n",
       "        [135, 136, 137, 138, 139],\n",
       "        [140, 141, 142, 143, 144],\n",
       "        [145, 146, 147, 148, 149]],\n",
       "\n",
       "       [[150, 151, 152, 153, 154],\n",
       "        [155, 156, 157, 158, 159],\n",
       "        [160, 161, 162, 163, 164],\n",
       "        [165, 166, 167, 168, 169],\n",
       "        [170, 171, 172, 173, 174],\n",
       "        [175, 176, 177, 178, 179],\n",
       "        [180, 181, 182, 183, 184],\n",
       "        [185, 186, 187, 188, 189],\n",
       "        [190, 191, 192, 193, 194],\n",
       "        [195, 196, 197, 198, 199],\n",
       "        [200, 201, 202, 203, 204],\n",
       "        [205, 206, 207, 208, 209],\n",
       "        [210, 211, 212, 213, 214],\n",
       "        [215, 216, 217, 218, 219],\n",
       "        [220, 221, 222, 223, 224]]])"
      ]
     },
     "execution_count": 19,
     "metadata": {},
     "output_type": "execute_result"
    }
   ],
   "source": [
    "#3d array\n",
    "arr10 = np.arange(225).reshape(3, 15, 5)  # create a 3D array with shape (10, 10, 10)\n",
    "print(arr10.shape)  # shape of the 3D array\n",
    "arr10"
   ]
  },
  {
   "cell_type": "code",
   "execution_count": 20,
   "id": "9806d3c5",
   "metadata": {},
   "outputs": [
    {
     "data": {
      "text/plain": [
       "array([[[1., 1., 1.],\n",
       "        [1., 1., 1.],\n",
       "        [1., 1., 1.]],\n",
       "\n",
       "       [[1., 1., 1.],\n",
       "        [1., 1., 1.],\n",
       "        [1., 1., 1.]],\n",
       "\n",
       "       [[1., 1., 1.],\n",
       "        [1., 1., 1.],\n",
       "        [1., 1., 1.]]])"
      ]
     },
     "execution_count": 20,
     "metadata": {},
     "output_type": "execute_result"
    }
   ],
   "source": [
    "arr10=np.ones((3, 3, 3))  # create a 3D array of ones with shape (3, 3, 3)\n",
    "arr10"
   ]
  },
  {
   "cell_type": "code",
   "execution_count": 21,
   "id": "c176cbff",
   "metadata": {},
   "outputs": [
    {
     "data": {
      "text/plain": [
       "array([[[1.],\n",
       "        [1.]],\n",
       "\n",
       "       [[1.],\n",
       "        [1.]],\n",
       "\n",
       "       [[1.],\n",
       "        [1.]]])"
      ]
     },
     "execution_count": 21,
     "metadata": {},
     "output_type": "execute_result"
    }
   ],
   "source": [
    "##slicing in 3d array\n",
    "##syntax--\n",
    "# [tablestart:tableend:tableskip, rowstart:rowend:rowskip, colstart:colend:colskip]\n",
    "# Select all tables, rows 1 to 3, columns 2 to 3\n",
    "arr10[:, 1:4, 2:4]  # selecting specific tables, rows and columns"
   ]
  },
  {
   "cell_type": "code",
   "execution_count": 22,
   "id": "777f4f6a",
   "metadata": {},
   "outputs": [
    {
     "data": {
      "text/plain": [
       "np.int64(1)"
      ]
     },
     "execution_count": 22,
     "metadata": {},
     "output_type": "execute_result"
    }
   ],
   "source": [
    "np.max(arr8) #maximum value in the array\n",
    "np.min(arr8) #minimum value in the array"
   ]
  },
  {
   "cell_type": "code",
   "execution_count": 23,
   "id": "db578312",
   "metadata": {},
   "outputs": [
    {
     "data": {
      "text/plain": [
       "np.int64(465)"
      ]
     },
     "execution_count": 23,
     "metadata": {},
     "output_type": "execute_result"
    }
   ],
   "source": [
    "np.sum(arr8)  #sum of all elements in the array"
   ]
  },
  {
   "cell_type": "code",
   "execution_count": 24,
   "id": "70281d0d",
   "metadata": {},
   "outputs": [
    {
     "data": {
      "text/plain": [
       "np.float64(15.5)"
      ]
     },
     "execution_count": 24,
     "metadata": {},
     "output_type": "execute_result"
    }
   ],
   "source": [
    "np.mean(arr8)  #mean of all elements in the array"
   ]
  },
  {
   "cell_type": "code",
   "execution_count": 25,
   "id": "6585649b",
   "metadata": {},
   "outputs": [
    {
     "data": {
      "text/plain": [
       "np.float64(15.5)"
      ]
     },
     "execution_count": 25,
     "metadata": {},
     "output_type": "execute_result"
    }
   ],
   "source": [
    "np.median(arr8)  #median of all elements in the array"
   ]
  },
  {
   "cell_type": "code",
   "execution_count": 26,
   "id": "b9c2873b",
   "metadata": {},
   "outputs": [
    {
     "data": {
      "text/plain": [
       "np.float64(8.65544144839919)"
      ]
     },
     "execution_count": 26,
     "metadata": {},
     "output_type": "execute_result"
    }
   ],
   "source": [
    "np.std(arr8)  #standard deviation of all elements in the array"
   ]
  },
  {
   "cell_type": "code",
   "execution_count": 27,
   "id": "91da4e3a",
   "metadata": {},
   "outputs": [
    {
     "name": "stdout",
     "output_type": "stream",
     "text": [
      "[[ 1  2  3  4  5  6]\n",
      " [ 7  8  9 10 11 12]\n",
      " [13 14 15 16 17 18]\n",
      " [19 20 21 22 23 24]\n",
      " [25 26 27 28 29 30]]\n"
     ]
    }
   ],
   "source": [
    "arr8.sort()\n",
    "print(arr8)  #sorted array"
   ]
  },
  {
   "cell_type": "code",
   "execution_count": 28,
   "id": "6fab9808",
   "metadata": {},
   "outputs": [
    {
     "name": "stdout",
     "output_type": "stream",
     "text": [
      "[2 0 4 5 1 3]\n"
     ]
    }
   ],
   "source": [
    "arr11=np.array([2,5,1,6,3,4])\n",
    "arr1.argsort()  #returns the indices that would sort the array\n",
    "print(arr11.argsort())  #indices that would sort the array  ,array sorted through indices."
   ]
  },
  {
   "cell_type": "code",
   "execution_count": 29,
   "id": "9a3aa12c",
   "metadata": {},
   "outputs": [
    {
     "data": {
      "text/plain": [
       "array([ 4, 25,  1, 36,  9, 16])"
      ]
     },
     "execution_count": 29,
     "metadata": {},
     "output_type": "execute_result"
    }
   ],
   "source": [
    "arr11 + 2 #adding 2 to each element of the array\n",
    "arr11 * 2  #multiplying each element of the array by 2\n",
    "arr11 ** 2  #squaring each element of the array                         "
   ]
  },
  {
   "cell_type": "code",
   "execution_count": 30,
   "id": "1003a6cd",
   "metadata": {},
   "outputs": [],
   "source": [
    "arr11=np.array([2,5,1,6,3,4])\n",
    "arr12=np.array([])"
   ]
  }
 ],
 "metadata": {
  "kernelspec": {
   "display_name": "Python 3",
   "language": "python",
   "name": "python3"
  },
  "language_info": {
   "codemirror_mode": {
    "name": "ipython",
    "version": 3
   },
   "file_extension": ".py",
   "mimetype": "text/x-python",
   "name": "python",
   "nbconvert_exporter": "python",
   "pygments_lexer": "ipython3",
   "version": "3.11.9"
  }
 },
 "nbformat": 4,
 "nbformat_minor": 5
}
